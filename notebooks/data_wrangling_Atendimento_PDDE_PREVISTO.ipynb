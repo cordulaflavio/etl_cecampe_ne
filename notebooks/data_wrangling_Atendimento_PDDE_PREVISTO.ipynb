{
 "cells": [
  {
   "cell_type": "code",
   "execution_count": 1,
   "id": "40cd2b49",
   "metadata": {},
   "outputs": [],
   "source": [
    "#Importando Pandas e Numpy\n",
    "import pandas as pd\n",
    "import numpy as np"
   ]
  },
  {
   "cell_type": "code",
   "execution_count": 2,
   "id": "aaf1c026",
   "metadata": {},
   "outputs": [],
   "source": [
    "#Carregar arquivo csv\n",
    "csv_file_path = 'D:\\etl_cecampe_ne_arquivos\\Olinda_PDDE\\Atendimento_PDDE_PREVISTO.csv'\n",
    "\n",
    "#Ler arquivo csv com condições\n",
    "df = pd.read_csv(csv_file_path,\n",
    "                  converters={'co_entidade': lambda x: str(x),\n",
    "                             'nu_cgc_entidade': lambda x: str(x), \n",
    "                             'nu_cgc_entidade_proponente': lambda x: str(x),\n",
    "                             'co_escola': lambda x: str(x),\n",
    "                             'no_escola': lambda x: str(x),\n",
    "                             'nu_seq_escola': lambda x: str(x),\n",
    "                             'an_exercicio': lambda x: str(x),\n",
    "                             'co_programa_fnde': lambda x: str(x),\n",
    "                             'co_destinacao': lambda x: str(x),\n",
    "                             'co_municipio_fnde': lambda x: str(x),\n",
    "                             'co_mesoregiao': lambda x: str(x),\n",
    "                             'sg_uf': lambda x: str(x),\n",
    "                             'co_regiao': lambda x: str(x),\n",
    "                             'co_esfera_adm': lambda x: str(x),\n",
    "                             'tp_entidade': lambda x: str(x),\n",
    "                             'tp_localizacao': lambda x: str(x),\n",
    "                             'tp_escola': lambda x: str(x),\n",
    "                             'qt_alunos': lambda x: str(x),\n",
    "                             'vl_custeio_recurso': lambda x: str(x),\n",
    "                             'vl_capital_recurso': lambda x: str(x),\n",
    "                             'vl_total_recurso': lambda x: str(x)})\n",
    "         \n",
    "#Verificar leitura de arquivo csv\n",
    "#print(df.head(5))"
   ]
  },
  {
   "cell_type": "code",
   "execution_count": 4,
   "id": "da7fe0f7",
   "metadata": {},
   "outputs": [],
   "source": [
    "#upper case valores de no_razao_social\n",
    "df[\"no_escola\"] = df[\"no_escola\"].str.upper()"
   ]
  },
  {
   "cell_type": "code",
   "execution_count": 5,
   "id": "93709d30",
   "metadata": {},
   "outputs": [],
   "source": [
    "#Substituicoes\n",
    "\n",
    "#Replace \"null\" textuais por vazios\n",
    "for column in df.columns:\n",
    "    df[column] = df[column].replace(\"null\",\"\")\n",
    "\n",
    "#Replace ponto por vírgulas das colunas R$\n",
    "df[\"vl_custeio_recurso\"] = df[\"vl_custeio_recurso\"].str.replace(',','.')    \n",
    "df[\"vl_capital_recurso\"] = df[\"vl_capital_recurso\"].str.replace(',','.')\n",
    "df[\"vl_total_recurso\"] = df[\"vl_total_recurso\"].str.replace(',','.')\n",
    "\n",
    "#Replace vírgulas, pontos e aspas duplas nos nomes das escolas por vazios\n",
    "df[\"no_escola\"] = df[\"no_escola\"].str.replace(',','', regex=False)\n",
    "df[\"no_escola\"] = df[\"no_escola\"].str.replace('\"','', regex=False)\n",
    "df[\"no_escola\"] = df[\"no_escola\"].str.replace('.','', regex=False)"
   ]
  },
  {
   "cell_type": "code",
   "execution_count": 6,
   "id": "f7b4ca8d",
   "metadata": {},
   "outputs": [],
   "source": [
    "#mais substituicoes\n",
    "df[\"no_escola\"] = df[\"no_escola\"].str.replace('IBA?EZ','IBANEZ', regex=False)\n",
    "df[\"no_escola\"] = df[\"no_escola\"].str.replace('GUIMAR?ES','GUIMARAES', regex=False)\n",
    "df[\"no_escola\"] = df[\"no_escola\"].str.replace('PROF?','PROF', regex=False)\n",
    "df[\"no_escola\"] = df[\"no_escola\"].str.replace('C?O','CAO', regex=False)\n",
    "df[\"no_escola\"] = df[\"no_escola\"].str.replace('T?O','TAO', regex=False)\n",
    "df[\"no_escola\"] = df[\"no_escola\"].str.replace('E?O','EAO', regex=False)\n",
    "df[\"no_escola\"] = df[\"no_escola\"].str.replace('S?O','SAO', regex=False)\n",
    "df[\"no_escola\"] = df[\"no_escola\"].str.replace('O?O','OAO', regex=False)\n",
    "df[\"no_escola\"] = df[\"no_escola\"].str.replace('I?O','IAO', regex=False)"
   ]
  },
  {
   "cell_type": "code",
   "execution_count": 7,
   "id": "53b0d87a",
   "metadata": {},
   "outputs": [],
   "source": [
    "#mais substituicoes\n",
    "df[\"no_escola\"] = df[\"no_escola\"].str.replace('D?O','DAO', regex=False)\n",
    "df[\"no_escola\"] = df[\"no_escola\"].str.replace('R?O','RAO', regex=False)\n",
    "df[\"no_escola\"] = df[\"no_escola\"].str.replace('M?O','MAO', regex=False)\n",
    "df[\"no_escola\"] = df[\"no_escola\"].str.replace('V?O','VAO', regex=False)\n",
    "df[\"no_escola\"] = df[\"no_escola\"].str.replace('AMANH?','AMANHA', regex=False)\n",
    "df[\"no_escola\"] = df[\"no_escola\"].str.replace('IRM?','IRMA', regex=False)\n",
    "df[\"no_escola\"] = df[\"no_escola\"].str.replace('MARANH?O','MARANHAO', regex=False)"
   ]
  },
  {
   "cell_type": "code",
   "execution_count": 8,
   "id": "3f85af0b",
   "metadata": {},
   "outputs": [],
   "source": [
    "#mais substituicoes\n",
    "df[\"no_escola\"] = df[\"no_escola\"].str.replace('?','', regex=False)\n",
    "df[\"no_escola\"] = df[\"no_escola\"].str.replace('ª','', regex=False)\n",
    "df[\"no_escola\"] = df[\"no_escola\"].str.replace('Ñ','N', regex=False)"
   ]
  },
  {
   "cell_type": "code",
   "execution_count": 9,
   "id": "1bcd8616",
   "metadata": {},
   "outputs": [],
   "source": [
    "# Salva alterações em novo arquivo csv, utf-8 e sem index\n",
    "df.to_csv(\"Atendimento_PDDE_PREVISTO_Formatado.csv\", encoding='utf-8-sig', index=False)"
   ]
  },
  {
   "cell_type": "code",
   "execution_count": null,
   "id": "82796979",
   "metadata": {},
   "outputs": [],
   "source": []
  }
 ],
 "metadata": {
  "kernelspec": {
   "display_name": "Python 3",
   "language": "python",
   "name": "python3"
  },
  "language_info": {
   "codemirror_mode": {
    "name": "ipython",
    "version": 3
   },
   "file_extension": ".py",
   "mimetype": "text/x-python",
   "name": "python",
   "nbconvert_exporter": "python",
   "pygments_lexer": "ipython3",
   "version": "3.8.8"
  }
 },
 "nbformat": 4,
 "nbformat_minor": 5
}
