{
 "cells": [
  {
   "cell_type": "code",
   "execution_count": null,
   "id": "337a02ec",
   "metadata": {},
   "outputs": [],
   "source": [
    "#Importando os e glob para juntar arquvos csv\n",
    "import os\n",
    "import glob\n",
    "#Importando Pandas e Numpy\n",
    "import pandas as pd\n",
    "import numpy as np"
   ]
  },
  {
   "cell_type": "code",
   "execution_count": null,
   "id": "c410db10",
   "metadata": {},
   "outputs": [],
   "source": [
    "#Em Andamento!"
   ]
  },
  {
   "cell_type": "code",
   "execution_count": null,
   "id": "df9a0303",
   "metadata": {},
   "outputs": [],
   "source": [
    "df_concat.to_csv(\"Prestacao_Conta_SIGPC_Concatenada_Formatada.csv\", encoding='utf-8-sig', index=False)"
   ]
  }
 ],
 "metadata": {
  "kernelspec": {
   "display_name": "Python 3",
   "language": "python",
   "name": "python3"
  },
  "language_info": {
   "codemirror_mode": {
    "name": "ipython",
    "version": 3
   },
   "file_extension": ".py",
   "mimetype": "text/x-python",
   "name": "python",
   "nbconvert_exporter": "python",
   "pygments_lexer": "ipython3",
   "version": "3.8.8"
  }
 },
 "nbformat": 4,
 "nbformat_minor": 5
}
