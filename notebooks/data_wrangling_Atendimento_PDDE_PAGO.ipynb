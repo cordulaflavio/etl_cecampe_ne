{
 "cells": [
  {
   "cell_type": "code",
   "execution_count": 1,
   "id": "337a02ec",
   "metadata": {},
   "outputs": [],
   "source": [
    "#Importando os e glob para juntar arquvos csv\n",
    "import os\n",
    "import glob\n",
    "\n",
    "#Importando Pandas e Numpy\n",
    "import pandas as pd\n",
    "import numpy as np"
   ]
  },
  {
   "cell_type": "code",
   "execution_count": 2,
   "id": "fbf0afac",
   "metadata": {},
   "outputs": [],
   "source": [
    "#juntar arquivos csv deu muito erro de formacao de dados. \n",
    "#O padrao é ler em df já como os tipos de dados corretos e depois contatenar.\n",
    "#Atendimento_PDDE_PAGO ANO 2016.csv\n",
    "#Atendimento_PDDE_PAGO ANO 2017.csv\n",
    "#Atendimento_PDDE_PAGO ANO 2018.csv\n",
    "#Atendimento_PDDE_PAGO ANO 2019.csv\n",
    "#Atendimento_PDDE_PAGO ANO 2020.csv\n",
    "\n",
    "#set working directory\n",
    "os.chdir(\"D:\\etl_cecampe_ne_arquivos\\Olinda_PDDE\\PDDE_PAGO\")\n",
    "\n",
    "#find all csv files in the folder\n",
    "#use glob pattern matching -> extension = 'csv'\n",
    "#save result in list -> all_filenames\n",
    "file_extension = '.csv'\n",
    "all_filenames = [i for i in glob.glob(f\"*{file_extension}\")]\n",
    "\n",
    "df_concat = pd.concat([pd.read_csv(file,\n",
    "                             parse_dates=['dt_pagamento','dt_liberacao_pagamento'],\n",
    "                             converters={'an_exercicio': lambda x: str(x),\n",
    "                             'co_entidade': lambda x: str(x), \n",
    "                             'cnpj_entidade': lambda x: str(x),\n",
    "                             'nu_cgc_entidade': lambda x: str(x),\n",
    "                             'co_programa_fnde': lambda x: str(x),\n",
    "                             'co_destinacao': lambda x: str(x),\n",
    "                             'co_municipio_fnde': lambda x: str(x),\n",
    "                             'co_mesoregiao': lambda x: str(x),\n",
    "                             'sg_uf': lambda x: str(x),\n",
    "                             'co_regiao': lambda x: str(x),\n",
    "                             'co_esfera_adm': lambda x: str(x),\n",
    "                             'tp_entidade': lambda x: str(x),\n",
    "                             'tp_localizacao': lambda x: str(x),\n",
    "                             'qtd_dias_liberacao_recurso': lambda x: str(x),\n",
    "                             'qt_escolas': lambda x: str(x),\n",
    "                             'qt_alunos': lambda x: str(x),\n",
    "                             'vl_pago_capital': lambda x: str(x),\n",
    "                             'vl_pago_custeio': lambda x: str(x),\n",
    "                             'vl_pg_anos_anteriores': lambda x: str(x),\n",
    "                             'nu_parcela_pagamento': lambda x: str(x)}) for file in all_filenames])\n",
    "\n",
    "#print(df_concat)"
   ]
  },
  {
   "cell_type": "code",
   "execution_count": 3,
   "id": "920a93b3",
   "metadata": {},
   "outputs": [],
   "source": [
    "# Atualiza o formato da coluna dt_pagamento e dt_liberacao_pagamento  para DD/MM/AAAA \n",
    "df_concat[\"dt_pagamento\"] = df_concat[\"dt_pagamento\"].dt.strftime(\"%d/%m/%y\")\n",
    "df_concat[\"dt_liberacao_pagamento\"] = df_concat[\"dt_liberacao_pagamento\"].dt.strftime(\"%d/%m/%y\")"
   ]
  },
  {
   "cell_type": "code",
   "execution_count": 4,
   "id": "362b7c25",
   "metadata": {},
   "outputs": [],
   "source": [
    "#Substituicoes\n",
    "\n",
    "#Replace \"null\" textuais por vazios\n",
    "for column in df_concat.columns:\n",
    "    df_concat[column] = df_concat[column].replace(\"null\",\"\")\n",
    "\n",
    "#Replace ponto por vírgulas das colunas R$\n",
    "df_concat[\"vl_pago_capital\"] = df_concat[\"vl_pago_capital\"].str.replace(',','.')    \n",
    "df_concat[\"vl_pago_custeio\"] = df_concat[\"vl_pago_custeio\"].str.replace(',','.')\n",
    "df_concat[\"vl_pg_anos_anteriores\"] = df_concat[\"vl_pg_anos_anteriores\"].str.replace(',','.')"
   ]
  },
  {
   "cell_type": "code",
   "execution_count": 5,
   "id": "df9a0303",
   "metadata": {},
   "outputs": [],
   "source": [
    "df_concat.to_csv(\"Atendimento_PDDE_PAGO_todos_anos_Formatada.csv\", encoding='utf-8-sig', index=False)"
   ]
  },
  {
   "cell_type": "code",
   "execution_count": null,
   "id": "1b7f29f5",
   "metadata": {},
   "outputs": [],
   "source": []
  }
 ],
 "metadata": {
  "kernelspec": {
   "display_name": "Python 3",
   "language": "python",
   "name": "python3"
  },
  "language_info": {
   "codemirror_mode": {
    "name": "ipython",
    "version": 3
   },
   "file_extension": ".py",
   "mimetype": "text/x-python",
   "name": "python",
   "nbconvert_exporter": "python",
   "pygments_lexer": "ipython3",
   "version": "3.8.8"
  }
 },
 "nbformat": 4,
 "nbformat_minor": 5
}
