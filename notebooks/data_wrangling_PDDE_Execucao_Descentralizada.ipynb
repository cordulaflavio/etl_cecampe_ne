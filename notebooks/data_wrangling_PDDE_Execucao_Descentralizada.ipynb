{
 "cells": [
  {
   "cell_type": "code",
   "execution_count": 1,
   "id": "e4dd4c40",
   "metadata": {},
   "outputs": [],
   "source": [
    "#Importando Pandas e Numpy\n",
    "import pandas as pd\n",
    "import numpy as np"
   ]
  },
  {
   "cell_type": "code",
   "execution_count": 2,
   "id": "4a0650e8",
   "metadata": {},
   "outputs": [],
   "source": [
    "#Carregar arquivo csv\n",
    "# Foi quebrado em 7 arquivos\n",
    "csv_file_path = 'D:\\etl_cecampe_ne_arquivos\\Olinda_PDDE\\PDDE_Exe_Desc\\PDDE_Execucao_Descentralizada_0.csv'\n",
    "#csv_file_path = 'D:\\etl_cecampe_ne_arquivos\\Olinda_PDDE\\PDDE_Exe_Desc\\PDDE_Execucao_Descentralizada_1.csv'\n",
    "#csv_file_path = 'D:\\etl_cecampe_ne_arquivos\\Olinda_PDDE\\PDDE_Exe_Desc\\PDDE_Execucao_Descentralizada_2.csv'\n",
    "#csv_file_path = 'D:\\etl_cecampe_ne_arquivos\\Olinda_PDDE\\PDDE_Exe_Desc\\PDDE_Execucao_Descentralizada_3.csv'\n",
    "#csv_file_path = 'D:\\etl_cecampe_ne_arquivos\\Olinda_PDDE\\PDDE_Exe_Desc\\PDDE_Execucao_Descentralizada_4.csv'\n",
    "#csv_file_path = 'D:\\etl_cecampe_ne_arquivos\\Olinda_PDDE\\PDDE_Exe_Desc\\PDDE_Execucao_Descentralizada_5.csv'\n",
    "#csv_file_path = 'D:\\etl_cecampe_ne_arquivos\\Olinda_PDDE\\PDDE_Exe_Desc\\PDDE_Execucao_Descentralizada_6.csv'\n",
    "\n",
    "#Ler arquivo csv com condições\n",
    "\n",
    "df = pd.read_csv(csv_file_path,\n",
    "                 parse_dates=['Periodo_Referencia'],\n",
    "                 converters={'Codigo_Programa_FNDE': lambda x: str(x),\n",
    "                             'Agencia': lambda x: str(x),\n",
    "                             'Conta_Corrente': lambda x: str(x),\n",
    "                             'Numero_Banco': lambda x: str(x),\n",
    "                             'UF': lambda x: str(x),\n",
    "                             'Codigo_Regiao_IBGE': lambda x: str(x),\n",
    "                             'Codigo_Municipio_IBGE': lambda x: str(x),\n",
    "                             'Codigo_Mesoregiao': lambda x: str(x),\n",
    "                             'Numero_Seq_Entidade': lambda x: str(x),\n",
    "                             'Situacao_Conta': lambda x: str(x),\n",
    "                             'Valor_Saldo_Conta': lambda x: str(x),\n",
    "                             'Valor_Saldo_Fundos': lambda x: str(x),\n",
    "                             'Valor_Saldo_Poupanca': lambda x: str(x),\n",
    "                             'Valor_Saldo_RDB': lambda x: str(x),\n",
    "                             'Saldo_Aplicado': lambda x: str(x)})\n",
    "\n",
    "#print(df.head(2))"
   ]
  },
  {
   "cell_type": "code",
   "execution_count": 3,
   "id": "740da1ce",
   "metadata": {},
   "outputs": [],
   "source": [
    "#lower case dos headers\n",
    "df.columns = df.columns.astype(str).str.lower()"
   ]
  },
  {
   "cell_type": "code",
   "execution_count": 4,
   "id": "da8eb751",
   "metadata": {},
   "outputs": [],
   "source": [
    "# Atualiza o formato da coluna dt_atualizacao para DD/MM/AAAA \n",
    "df[\"periodo_referencia\"] = df[\"periodo_referencia\"].dt.strftime(\"%d/%m/%y\")"
   ]
  },
  {
   "cell_type": "code",
   "execution_count": 5,
   "id": "96803d2b",
   "metadata": {},
   "outputs": [],
   "source": [
    "#Replace ponto por vírgulas das colunas R$\n",
    "df[\"valor_saldo_conta\"] = df[\"valor_saldo_conta\"].str.replace(',','.')    \n",
    "df[\"valor_saldo_fundos\"] = df[\"valor_saldo_fundos\"].str.replace(',','.')\n",
    "df[\"valor_saldo_poupanca\"] = df[\"valor_saldo_poupanca\"].str.replace(',','.')\n",
    "df[\"valor_saldo_rdb\"] = df[\"valor_saldo_rdb\"].str.replace(',','.')\n",
    "df[\"saldo_aplicado\"] = df[\"saldo_aplicado\"].str.replace(',','.')"
   ]
  },
  {
   "cell_type": "code",
   "execution_count": 6,
   "id": "403b4306",
   "metadata": {},
   "outputs": [],
   "source": [
    "df.to_csv(\"PDDE_Execucao_Descentralizada_0_Formatada.csv\", encoding='utf-8-sig', index=False)\n",
    "#df.to_csv(\"PDDE_Execucao_Descentralizada_1_Formatada.csv\", encoding='utf-8-sig', index=False)\n",
    "#df.to_csv(\"PDDE_Execucao_Descentralizada_2_Formatada.csv\", encoding='utf-8-sig', index=False)\n",
    "#df.to_csv(\"PDDE_Execucao_Descentralizada_3_Formatada.csv\", encoding='utf-8-sig', index=False)\n",
    "#df.to_csv(\"PDDE_Execucao_Descentralizada_4_Formatada.csv\", encoding='utf-8-sig', index=False)\n",
    "#df.to_csv(\"PDDE_Execucao_Descentralizada_5_Formatada.csv\", encoding='utf-8-sig', index=False)\n",
    "#df.to_csv(\"PDDE_Execucao_Descentralizada_6_Formatada.csv\", encoding='utf-8-sig', index=False)"
   ]
  },
  {
   "cell_type": "code",
   "execution_count": null,
   "id": "472c710c",
   "metadata": {},
   "outputs": [],
   "source": []
  }
 ],
 "metadata": {
  "kernelspec": {
   "display_name": "Python 3",
   "language": "python",
   "name": "python3"
  },
  "language_info": {
   "codemirror_mode": {
    "name": "ipython",
    "version": 3
   },
   "file_extension": ".py",
   "mimetype": "text/x-python",
   "name": "python",
   "nbconvert_exporter": "python",
   "pygments_lexer": "ipython3",
   "version": "3.8.8"
  }
 },
 "nbformat": 4,
 "nbformat_minor": 5
}
