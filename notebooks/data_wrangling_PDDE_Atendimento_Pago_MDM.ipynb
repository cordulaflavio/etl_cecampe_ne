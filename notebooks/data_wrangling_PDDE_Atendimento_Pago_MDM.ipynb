{
 "cells": [
  {
   "cell_type": "code",
   "execution_count": 1,
   "id": "db0c1191",
   "metadata": {},
   "outputs": [],
   "source": [
    "#Importando Pandas e Numpy\n",
    "import pandas as pd\n",
    "import numpy as np"
   ]
  },
  {
   "cell_type": "code",
   "execution_count": null,
   "id": "4686cb9b",
   "metadata": {},
   "outputs": [],
   "source": [
    "#Carregar arquivo csv\n",
    "csv_file_path = 'D:\\etl_cecampe_ne_arquivos\\Olinda_PDDE\\PDDE_Atendimento_Pago_MDM.csv'\n",
    "\n",
    "#Ler arquivo csv com condições\n",
    "df = pd.read_csv(csv_file_path, sep = ';',\n",
    "                 converters={'sg_uf': lambda x: str(x),\n",
    "                             'no_razao_social': lambda x: str(x), \n",
    "                             'no_regiao': lambda x: str(x),\n",
    "                             'no_razao_social_cnpj_proponente': lambda x: str(x),\n",
    "                             'co_programa_fnde': lambda x: str(x),\n",
    "                             'no_programa_fnde': lambda x: str(x),\n",
    "                             'sg_programa_fnde': lambda x: str(x),\n",
    "                             'no_municipio': lambda x: str(x),\n",
    "                             'no_mesorregiao': lambda x: str(x),\n",
    "                             'no_localizacao': lambda x: str(x),\n",
    "                             'no_esfera_adm': lambda x: str(x),\n",
    "                             'no_esfera_adm0': lambda x: str(x),\n",
    "                             'no_abreviado': lambda x: str(x),\n",
    "                             'ds_perfil_entidade': lambda x: str(x),\n",
    "                             'ds_mes_ano': lambda x: str(x),\n",
    "                             'ds_destinacao': lambda x: str(x),\n",
    "                             'nu_cgc_entidade': lambda x: str(x),\n",
    "                             'nu_ano': lambda x: str(x),\n",
    "                             'vl_total_pago': lambda x: str(x),\n",
    "                             'vl_capital_pago': lambda x: str(x),\n",
    "                             'vl_custeio_pago': lambda x: str(x),\n",
    "                             'qtde_entidade_paga': lambda x: str(x),\n",
    "                             'qtde_liberacao_recurso': lambda x: str(x),\n",
    "                             'vl_pg_ano_atual': lambda x: str(x),\n",
    "                             'vl_pg_anos_anteriores': lambda x: str(x)})\n",
    "#print(df.head(5))"
   ]
  },
  {
   "cell_type": "code",
   "execution_count": 26,
   "id": "0e5094a3",
   "metadata": {},
   "outputs": [],
   "source": [
    "#Substituicoes\n",
    "\n",
    "#Replace \"null\" textuais por vazios\n",
    "for column in df.columns:\n",
    "    df[column] = df[column].replace(\"null\",\"\")\n",
    "\n",
    "#Replace ponto por vírgulas das colunas R$\n",
    "df[\"vl_total_pago\"] = df[\"vl_total_pago\"].str.replace(',','.', regex=False)    \n",
    "df[\"vl_capital_pago\"] = df[\"vl_capital_pago\"].str.replace(',','.', regex=False)\n",
    "df[\"vl_custeio_pago\"] = df[\"vl_custeio_pago\"].str.replace(',','.', regex=False)\n",
    "df[\"vl_pg_ano_atual\"] = df[\"vl_pg_ano_atual\"].str.replace(',','.', regex=False)\n",
    "df[\"vl_pg_anos_anteriores\"] = df[\"vl_pg_anos_anteriores\"].str.replace(',','.', regex=False)\n",
    "\n",
    "#Replace vírgulas das colunas no_razao_social, no_razao_social_cnpj_proponente, \n",
    "#no_programa_fnde pois isso cria aspas no string \n",
    "df[\"no_razao_social\"] = df[\"no_razao_social\"].str.replace(',','', regex=False)\n",
    "df[\"no_razao_social\"] = df[\"no_razao_social\"].str.replace('\"','', regex=False)\n",
    "\n",
    "df[\"no_razao_social_cnpj_proponente\"] = df[\"no_razao_social_cnpj_proponente\"].str.replace(',','', regex=False)\n",
    "df[\"no_razao_social_cnpj_proponente\"] = df[\"no_razao_social_cnpj_proponente\"].str.replace('\"','', regex=False)\n",
    "\n",
    "df[\"no_programa_fnde\"] = df[\"no_programa_fnde\"].str.replace(',','', regex=False)\n",
    "df[\"no_programa_fnde\"] = df[\"no_programa_fnde\"].str.replace('\"','', regex=False)\n",
    "\n",
    "#Outras subistituicoes\n",
    "df[\"no_razao_social_cnpj_proponente\"] = df[\"no_razao_social_cnpj_proponente\"].str.replace('Ã“','O', regex=False)\n",
    "df[\"no_mesorregiao\"] = df[\"no_mesorregiao\"].str.replace('Ã³','o', regex=False)"
   ]
  },
  {
   "cell_type": "code",
   "execution_count": null,
   "id": "577ff27c",
   "metadata": {},
   "outputs": [],
   "source": [
    "#Salva alterações em novo arquivo csv, utf-8 e sem index\n",
    "df.to_csv(\"PDDE_Atendimento_Pago_MDM_formatado.csv\", encoding='utf-8-sig', index=False)"
   ]
  },
  {
   "cell_type": "code",
   "execution_count": null,
   "id": "e9127b16",
   "metadata": {},
   "outputs": [],
   "source": []
  }
 ],
 "metadata": {
  "kernelspec": {
   "display_name": "Python 3",
   "language": "python",
   "name": "python3"
  },
  "language_info": {
   "codemirror_mode": {
    "name": "ipython",
    "version": 3
   },
   "file_extension": ".py",
   "mimetype": "text/x-python",
   "name": "python",
   "nbconvert_exporter": "python",
   "pygments_lexer": "ipython3",
   "version": "3.8.8"
  }
 },
 "nbformat": 4,
 "nbformat_minor": 5
}
