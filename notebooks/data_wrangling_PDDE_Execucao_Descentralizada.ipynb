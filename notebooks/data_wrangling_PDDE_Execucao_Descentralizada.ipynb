{
 "cells": [
  {
   "cell_type": "code",
   "execution_count": null,
   "id": "e4dd4c40",
   "metadata": {},
   "outputs": [],
   "source": [
    "#Importando Pandas e Numpy\n",
    "import pandas as pd\n",
    "import numpy as np"
   ]
  },
  {
   "cell_type": "code",
   "execution_count": null,
   "id": "4a0650e8",
   "metadata": {},
   "outputs": [],
   "source": [
    "#Carregar arquivo csv\n",
    "csv_file_path = 'D:\\OneDrive\\Python\\Olinda_Download_20Set21\\PDDE_Execucao_Descentralizada.csv'\n",
    "\n",
    "#Ler arquivo csv com condições\n",
    "\n",
    "df = pd.read_csv(csv_file_path,\n",
    "                 parse_dates=['Periodo_Referencia'],\n",
    "                 converters={'Codigo_Programa_FNDE': lambda x: str(x),\n",
    "                             'Agencia': lambda x: str(x),\n",
    "                             'Conta_Corrente': lambda x: str(x),\n",
    "                             'Numero_Banco': lambda x: str(x),\n",
    "                             'UF': lambda x: str(x),\n",
    "                             'Codigo_Regiao_IBGE': lambda x: str(x),\n",
    "                             'Codigo_Municipio_IBGE': lambda x: str(x),\n",
    "                             'Codigo_Mesoregiao': lambda x: str(x),\n",
    "                             'Numero_Seq_Entidade': lambda x: str(x),\n",
    "                             'Situacao_Conta': lambda x: str(x),\n",
    "                             'Valor_Saldo_Conta': lambda x: str(x),\n",
    "                             'Valor_Saldo_Fundos': lambda x: str(x),\n",
    "                             'Valor_Saldo_Poupanca': lambda x: str(x),\n",
    "                             'Valor_Saldo_RDB': lambda x: str(x),\n",
    "                             'Saldo_Aplicado': lambda x: str(x)})\n",
    "\n",
    "#Verificar leitura de arquivo csv\n",
    "print(df.head(2))"
   ]
  },
  {
   "cell_type": "code",
   "execution_count": null,
   "id": "b2c6fc1b",
   "metadata": {},
   "outputs": [],
   "source": [
    "#lower case dos headers\n",
    "df.columns = df.columns.astype(str).str.lower()"
   ]
  }
 ],
 "metadata": {
  "kernelspec": {
   "display_name": "Python 3",
   "language": "python",
   "name": "python3"
  },
  "language_info": {
   "codemirror_mode": {
    "name": "ipython",
    "version": 3
   },
   "file_extension": ".py",
   "mimetype": "text/x-python",
   "name": "python",
   "nbconvert_exporter": "python",
   "pygments_lexer": "ipython3",
   "version": "3.8.8"
  }
 },
 "nbformat": 4,
 "nbformat_minor": 5
}
