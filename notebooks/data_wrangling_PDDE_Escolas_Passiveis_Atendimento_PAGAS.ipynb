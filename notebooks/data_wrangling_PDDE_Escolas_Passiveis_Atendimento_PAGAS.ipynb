{
 "cells": [
  {
   "cell_type": "code",
   "execution_count": 1,
   "id": "d8b19637",
   "metadata": {},
   "outputs": [],
   "source": [
    "#Importando Pandas e Numpy\n",
    "import pandas as pd\n",
    "import numpy as np"
   ]
  },
  {
   "cell_type": "code",
   "execution_count": null,
   "id": "f8fbcb15",
   "metadata": {},
   "outputs": [],
   "source": [
    "#Carregar arquivo csv\n",
    "csv_file_path = 'D:\\etl_cecampe_ne_arquivos\\Olinda_PDDE\\PDDE_Escolas_Passiveis_Atendimento_PAGAS.csv'\n",
    "\n",
    "#Ler arquivo csv com condições\n",
    "df = pd.read_csv(csv_file_path, sep = ';',\n",
    "                 parse_dates=['dt_emissao_ob'],\n",
    "                 converters={'an_exercicio': lambda x: str(x),\n",
    "                             'ds_programa_fnde': lambda x: str(x), \n",
    "                             'sg_destinacao': lambda x: str(x),\n",
    "                             'esfera': lambda x: str(x),\n",
    "                             'sg_uf': lambda x: str(x),\n",
    "                             'no_municipio': lambda x: str(x),\n",
    "                             'co_escola': lambda x: str(x),\n",
    "                             'no_escola': lambda x: str(x),\n",
    "                             'qt_alunos': lambda x: str(x),\n",
    "                             'vl_custeio': lambda x: str(x),\n",
    "                             'vl_capital': lambda x: str(x),\n",
    "                             'vl_total': lambda x: str(x),\n",
    "                             'cnpj_uex': lambda x: str(x),\n",
    "                             'no_razao_social': lambda x: str(x)}\n",
    "                )\n",
    "\n",
    "#Verificar leitura de arquivo csv\n",
    "print(df.head(2))"
   ]
  },
  {
   "cell_type": "code",
   "execution_count": null,
   "id": "917d5e5c",
   "metadata": {},
   "outputs": [],
   "source": [
    "#lower case dos headers\n",
    "df.columns = df.columns.astype(str).str.lower()"
   ]
  },
  {
   "cell_type": "code",
   "execution_count": null,
   "id": "a2da4871",
   "metadata": {},
   "outputs": [],
   "source": [
    "# Atualiza o formato da coluna dt_atualizacao para DD/MM/AAAA \n",
    "df[\"dt_emissao_ob\"] = df[\"dt_emissao_ob\"].dt.strftime(\"%d/%m/%y\")"
   ]
  },
  {
   "cell_type": "code",
   "execution_count": null,
   "id": "6c5b27a3",
   "metadata": {},
   "outputs": [],
   "source": [
    "#Substituicoes\n",
    "\n",
    "#Replace \"null\" textuais por vazios\n",
    "for column in df.columns:\n",
    "    df[column] = df[column].replace(\"null\",\"\")\n",
    "\n",
    "#Replace ponto por vírgulas das colunas R$\n",
    "df[\"vl_custeio\"] = df[\"vl_custeio\"].str.replace(',','.')    \n",
    "df[\"vl_capital\"] = df[\"vl_capital\"].str.replace(',','.')\n",
    "df[\"vl_total\"] = df[\"vl_total\"].str.replace(',','.')"
   ]
  },
  {
   "cell_type": "code",
   "execution_count": null,
   "id": "99dfe033",
   "metadata": {},
   "outputs": [],
   "source": [
    "#Salva alterações em novo arquivo csv, utf-8 e sem index\n",
    "df.to_csv(\"PDDE_Escolas_Passiveis_Atendimento_PAGAS_formatado.csv\", encoding='utf-8-sig', index=False)"
   ]
  },
  {
   "cell_type": "code",
   "execution_count": null,
   "id": "fb3979ca",
   "metadata": {},
   "outputs": [],
   "source": []
  }
 ],
 "metadata": {
  "kernelspec": {
   "display_name": "Python 3",
   "language": "python",
   "name": "python3"
  },
  "language_info": {
   "codemirror_mode": {
    "name": "ipython",
    "version": 3
   },
   "file_extension": ".py",
   "mimetype": "text/x-python",
   "name": "python",
   "nbconvert_exporter": "python",
   "pygments_lexer": "ipython3",
   "version": "3.8.8"
  }
 },
 "nbformat": 4,
 "nbformat_minor": 5
}
