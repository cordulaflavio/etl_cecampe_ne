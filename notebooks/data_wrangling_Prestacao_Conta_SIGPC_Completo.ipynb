{
 "cells": [
  {
   "cell_type": "code",
   "execution_count": 1,
   "id": "337a02ec",
   "metadata": {},
   "outputs": [],
   "source": [
    "#Importando os e glob para juntar arquvos csv\n",
    "import os\n",
    "import glob\n",
    "#Importando Pandas e Numpy\n",
    "import pandas as pd\n",
    "import numpy as np"
   ]
  },
  {
   "cell_type": "code",
   "execution_count": 2,
   "id": "c410db10",
   "metadata": {},
   "outputs": [],
   "source": [
    "#juntar arquivos csv deu muito erro de formacao de dados. \n",
    "#O padrao é ler em df já como os tipos de dados corretos e depois contatenar.\n",
    "#Prestacao_Conta_SIGPC_2016\n",
    "#Prestacao_Conta_SIGPC_2017\n",
    "#Prestacao_Conta_SIGPC_2018\n",
    "#Prestacao_Conta_SIGPC_2019\n",
    "#Prestacao_Conta_SIGPC_2020\n",
    "\n",
    "#set working directory\n",
    "os.chdir(\"D:\\etl_cecampe_ne_arquivos\\Olinda_PDDE\\Prestacao_Conta_SIGPC\")\n",
    "\n",
    "#find all csv files in the folder\n",
    "#use glob pattern matching -> extension = 'csv'\n",
    "#save result in list -> all_filenames\n",
    "file_extension = '.csv'\n",
    "all_filenames = [i for i in glob.glob(f\"*{file_extension}\")]\n",
    "\n",
    "df_concat = pd.concat([pd.read_csv(file,\n",
    "                             converters={'nu_cnpj_uex': lambda x: str(x),\n",
    "                             'no_razao_social_uex': lambda x: str(x), \n",
    "                             'nu_cnpj_eex': lambda x: str(x),\n",
    "                             'no_razao_social_eex': lambda x: str(x),\n",
    "                             'an_exercicio': lambda x: str(x),\n",
    "                             'co_esfera_adm': lambda x: str(x),\n",
    "                             'co_programa_fnde': lambda x: str(x),\n",
    "                             'ds_situacao_uex': lambda x: str(x),\n",
    "                             'st_ef_susp_vigente_uex': lambda x: str(x),\n",
    "                             'st_uex_apta_pagamento': lambda x: str(x),\n",
    "                             'st_ef_susp_vigente_eex': lambda x: str(x),\n",
    "                             'st_eex_apta_pagamento': lambda x: str(x)}) for file in all_filenames]) \n",
    "\n",
    "#print(df_concat)"
   ]
  },
  {
   "cell_type": "code",
   "execution_count": 3,
   "id": "402a39a4",
   "metadata": {},
   "outputs": [],
   "source": [
    "#Substituicoes\n",
    "\n",
    "#Replace \"null\" textuais por vazios\n",
    "for column in df_concat.columns:\n",
    "    df_concat[column] = df_concat[column].replace(\"null\",\"\")\n",
    "\n",
    "#Replace vírgulas da coluna no_razao_social pois isso cria aspas no string \n",
    "#e na importação dos dados para o postgres gera um erro\n",
    "# ERROR: unterminated CSV quoted field CONTEXT:\n",
    "df_concat[\"no_razao_social_uex\"] = df_concat[\"no_razao_social_uex\"].str.replace(',','', regex=False)    \n",
    "df_concat[\"no_razao_social_eex\"] = df_concat[\"no_razao_social_eex\"].str.replace(',','', regex=False) \n",
    "\n",
    "#Replace aspas simples por vazios\n",
    "df_concat[\"no_razao_social_uex\"] = df_concat[\"no_razao_social_uex\"].str.replace(\"'\",\"\", regex=False)    \n",
    "df_concat[\"no_razao_social_eex\"] = df_concat[\"no_razao_social_eex\"].str.replace(\"'\",\"\", regex=False)\n",
    "\n",
    "#Replace aspas duplas por vazios\n",
    "df_concat[\"no_razao_social_uex\"] = df_concat[\"no_razao_social_uex\"].str.replace('\"','', regex=False)    \n",
    "df_concat[\"no_razao_social_eex\"] = df_concat[\"no_razao_social_eex\"].str.replace('\"','', regex=False)\n",
    "\n",
    "#Mais subistituicoes\n",
    "df_concat[\"no_razao_social_uex\"] = df_concat[\"no_razao_social_uex\"].str.replace('ª','', regex=False)    \n",
    "df_concat[\"no_razao_social_eex\"] = df_concat[\"no_razao_social_eex\"].str.replace('ª','', regex=False)"
   ]
  },
  {
   "cell_type": "code",
   "execution_count": 4,
   "id": "df9a0303",
   "metadata": {},
   "outputs": [],
   "source": [
    "df_concat.to_csv(\"Prestacao_Conta_SIGPC_Concatenada_Formatada.csv\", encoding='utf-8-sig', index=False)"
   ]
  },
  {
   "cell_type": "code",
   "execution_count": null,
   "id": "96b5947f",
   "metadata": {},
   "outputs": [],
   "source": []
  }
 ],
 "metadata": {
  "kernelspec": {
   "display_name": "Python 3",
   "language": "python",
   "name": "python3"
  },
  "language_info": {
   "codemirror_mode": {
    "name": "ipython",
    "version": 3
   },
   "file_extension": ".py",
   "mimetype": "text/x-python",
   "name": "python",
   "nbconvert_exporter": "python",
   "pygments_lexer": "ipython3",
   "version": "3.8.8"
  }
 },
 "nbformat": 4,
 "nbformat_minor": 5
}
