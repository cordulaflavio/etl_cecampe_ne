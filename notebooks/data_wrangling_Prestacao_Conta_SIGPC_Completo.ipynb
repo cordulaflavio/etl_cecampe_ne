{
 "cells": [
  {
   "cell_type": "code",
   "execution_count": 2,
   "id": "337a02ec",
   "metadata": {},
   "outputs": [],
   "source": [
    "#Importando os e glob para juntar arquvos csv\n",
    "import os\n",
    "import glob\n",
    "\n",
    "#Importando Pandas e Numpy\n",
    "import pandas as pd\n",
    "import numpy as np"
   ]
  },
  {
   "cell_type": "code",
   "execution_count": 4,
   "id": "fbf0afac",
   "metadata": {},
   "outputs": [
    {
     "name": "stdout",
     "output_type": "stream",
     "text": [
      "          nu_cnpj_uex                                no_razao_social_uex  \\\n",
      "0                null                                               null   \n",
      "1      04734046000195  CONS DO CIRCULO DE PAIS E MESTRES DA ESCOLA M ...   \n",
      "2                null                                               null   \n",
      "3      11219245000120  ASSOCIACAO DE APOIO A CRECHE MUNICIPAL VOVO AM...   \n",
      "4                null                                               null   \n",
      "...               ...                                                ...   \n",
      "16051  11239042000104            CAIXA ESCOLAR DO CEI  ALMIRANTE SCHIECK   \n",
      "16052  11347541000107  CONSELHO ESCOLAR DA EMEI  OSMAR DOS SANTOS FRE...   \n",
      "16053  11196025000129              CDCE DA ESCOLA ESTADUAL DE AGUA SANTA   \n",
      "16054  11197017000105  CONS ESCOLAR DO CEMEI  JOAO NONON DE MOURA FON...   \n",
      "16055  11179542000190  CIRCULO DE PAIS E MESTRES DA EE DE ENSINO MEDI...   \n",
      "\n",
      "          nu_cnpj_eex                                no_razao_social_eex  \\\n",
      "0      01613028000167                                PREF MUN DE IRACEMA   \n",
      "1      05171947000189                       PREF MUN DE MAGALHAES BARATA   \n",
      "2      05171947000189                       PREF MUN DE MAGALHAES BARATA   \n",
      "3      01067966000109                PREF MUN DE PONTE ALTA DO BOM JESUS   \n",
      "4      50819234000133  ASSOC DE PAIS E AMIGOS DOS EXCEP DE BOITUVA SP...   \n",
      "...               ...                                                ...   \n",
      "16051  46634085000160                                  PREF MUN DE IPERO   \n",
      "16052  92963560000160                           PREF MUN DE PORTO ALEGRE   \n",
      "16053  03507415000810    SECRETARIA DE ESTADO DE EDUCAÇÃO DE MATO GROSSO   \n",
      "16054  06554869000164                               PREF MUN DE TERESINA   \n",
      "16055  92941681000100  SECRETARIA DE EDUCACAO DO ESTADO DO RIO GRANDE...   \n",
      "\n",
      "      an_exercicio co_esfera_adm co_programa_fnde ds_situacao_uex  \\\n",
      "0             2016             2               0A     NAO ENVIADA   \n",
      "1             2016             2               02     NAO ENVIADA   \n",
      "2             2016             2               02     NAO ENVIADA   \n",
      "3             2016             2               02    INADIMPLENTE   \n",
      "4             2016             3               A3     NAO ENVIADA   \n",
      "...            ...           ...              ...             ...   \n",
      "16051         2020             3               02     NO APROVADA   \n",
      "16052         2020             3               0B  NO APRESENTADA   \n",
      "16053         2020             3               0A  NO APRESENTADA   \n",
      "16054         2020             3               0B  NO APRESENTADA   \n",
      "16055         2020             3               0A  NO APRESENTADA   \n",
      "\n",
      "      st_ef_susp_vigente_uex st_uex_apta_pagamento st_ef_susp_vigente_eex  \\\n",
      "0                       null                  null                      N   \n",
      "1                          N                     N                      N   \n",
      "2                       null                  null                      N   \n",
      "3                          N                     N                      N   \n",
      "4                       null                  null                      N   \n",
      "...                      ...                   ...                    ...   \n",
      "16051                      N                     N                      N   \n",
      "16052                      N                     N                      N   \n",
      "16053                      N                     N                      N   \n",
      "16054                      N                     N                      N   \n",
      "16055                      N                     N                      N   \n",
      "\n",
      "      st_eex_apta_pagamento  \n",
      "0                         N  \n",
      "1                         N  \n",
      "2                         N  \n",
      "3                         N  \n",
      "4                         N  \n",
      "...                     ...  \n",
      "16051                     S  \n",
      "16052                     S  \n",
      "16053                     S  \n",
      "16054                     S  \n",
      "16055                     S  \n",
      "\n",
      "[29504 rows x 12 columns]\n"
     ]
    }
   ],
   "source": [
    "#juntar arquivos csv deu muito erro de formacao de dados. \n",
    "#O padrao é ler em df já como os tipos de dados corretos e depois contatenar.\n",
    "#Prestacao_Conta_SIGPC_2016\n",
    "#Prestacao_Conta_SIGPC_2017\n",
    "#Prestacao_Conta_SIGPC_2018\n",
    "#Prestacao_Conta_SIGPC_2019\n",
    "#Prestacao_Conta_SIGPC_2020\n",
    "\n",
    "#set working directory\n",
    "os.chdir(\"D:\\OneDrive\\Python\\Olinda_Download_20Set21\\Olinda_Prestacao_Contas\")\n",
    "\n",
    "#find all csv files in the folder\n",
    "#use glob pattern matching -> extension = 'csv'\n",
    "#save result in list -> all_filenames\n",
    "file_extension = '.csv'\n",
    "all_filenames = [i for i in glob.glob(f\"*{file_extension}\")]\n",
    "\n",
    "df_concat = pd.concat([pd.read_csv(file,\n",
    "                             converters={'nu_cnpj_uex': lambda x: str(x),\n",
    "                             'no_razao_social_uex': lambda x: str(x), \n",
    "                             'nu_cnpj_eex': lambda x: str(x),\n",
    "                             'no_razao_social_eex': lambda x: str(x),\n",
    "                             'an_exercicio': lambda x: str(x),\n",
    "                             'co_esfera_adm': lambda x: str(x),\n",
    "                             'co_programa_fnde': lambda x: str(x),\n",
    "                             'ds_situacao_uex': lambda x: str(x),\n",
    "                             'st_ef_susp_vigente_uex': lambda x: str(x),\n",
    "                             'st_uex_apta_pagamento': lambda x: str(x),\n",
    "                             'st_ef_susp_vigente_eex': lambda x: str(x),\n",
    "                             'st_eex_apta_pagamento': lambda x: str(x)}) for file in all_filenames]) \n",
    "\n",
    "print(df_concat)"
   ]
  },
  {
   "cell_type": "code",
   "execution_count": 1,
   "id": "903ddae5",
   "metadata": {},
   "outputs": [
    {
     "ename": "NameError",
     "evalue": "name 'df_concat' is not defined",
     "output_type": "error",
     "traceback": [
      "\u001b[1;31m---------------------------------------------------------------------------\u001b[0m",
      "\u001b[1;31mNameError\u001b[0m                                 Traceback (most recent call last)",
      "\u001b[1;32m<ipython-input-1-d9a910ced07b>\u001b[0m in \u001b[0;36m<module>\u001b[1;34m\u001b[0m\n\u001b[0;32m      2\u001b[0m \u001b[1;31m#conferir os cnpjs\u001b[0m\u001b[1;33m\u001b[0m\u001b[1;33m\u001b[0m\u001b[1;33m\u001b[0m\u001b[0m\n\u001b[0;32m      3\u001b[0m \u001b[1;31m# fazer o resto\u001b[0m\u001b[1;33m\u001b[0m\u001b[1;33m\u001b[0m\u001b[1;33m\u001b[0m\u001b[0m\n\u001b[1;32m----> 4\u001b[1;33m \u001b[0mprint\u001b[0m\u001b[1;33m(\u001b[0m\u001b[0mdf_concat\u001b[0m\u001b[1;33m.\u001b[0m\u001b[0mshape\u001b[0m\u001b[1;33m)\u001b[0m\u001b[1;33m\u001b[0m\u001b[1;33m\u001b[0m\u001b[0m\n\u001b[0m\u001b[0;32m      5\u001b[0m \u001b[0mprint\u001b[0m\u001b[1;33m(\u001b[0m\u001b[0mdf_concat\u001b[0m\u001b[1;33m)\u001b[0m\u001b[1;33m\u001b[0m\u001b[1;33m\u001b[0m\u001b[0m\n",
      "\u001b[1;31mNameError\u001b[0m: name 'df_concat' is not defined"
     ]
    }
   ],
   "source": [
    "#conferir se todos os dados estão ai... dos 5 arquivos\n",
    "#conferir os cnpjs\n",
    "# fazer o resto\n",
    "print(df_concat.shape)\n",
    "print(df_concat)"
   ]
  },
  {
   "cell_type": "code",
   "execution_count": 8,
   "id": "362b7c25",
   "metadata": {},
   "outputs": [],
   "source": [
    "#Substituicoes\n",
    "\n",
    "#Replace \"null\" textuais por vazios\n",
    "for column in df_concat.columns:\n",
    "    df_concat[column] = df_concat[column].replace(\"null\",\"\")\n",
    "\n",
    "#Replace vírgulas da coluna no_razao_social pois isso cria aspas no string \n",
    "#e na importação dos dados para o postgres gera um erro\n",
    "# ERROR: unterminated CSV quoted field CONTEXT:\n",
    "df_concat[\"no_razao_social_uex\"] = df_concat[\"no_razao_social_uex\"].str.replace(',','')    \n",
    "df_concat[\"no_razao_social_eex\"] = df_concat[\"no_razao_social_eex\"].str.replace(',','') \n",
    "\n",
    "#Replace aspas duplas por vazios\n",
    "df_concat[\"no_razao_social_uex\"] = df_concat[\"no_razao_social_uex\"].str.replace('\"','')    \n",
    "df_concat[\"no_razao_social_eex\"] = df_concat[\"no_razao_social_eex\"].str.replace('\"','')\n",
    "\n",
    "#Replace aspas simples por vazios\n",
    "df_concat[\"no_razao_social_uex\"] = df_concat[\"no_razao_social_uex\"].str.replace(\"'\",\"\")    \n",
    "df_concat[\"no_razao_social_eex\"] = df_concat[\"no_razao_social_eex\"].str.replace(\"'\",\"\")\n"
   ]
  },
  {
   "cell_type": "code",
   "execution_count": 10,
   "id": "df9a0303",
   "metadata": {},
   "outputs": [],
   "source": [
    "df_concat.to_csv(\"Prestacao_Conta_SIGPC_Concatenada_Formatada.csv\", encoding='utf-8-sig', index=False)"
   ]
  },
  {
   "cell_type": "code",
   "execution_count": null,
   "id": "920a93b3",
   "metadata": {},
   "outputs": [],
   "source": []
  }
 ],
 "metadata": {
  "kernelspec": {
   "display_name": "Python 3",
   "language": "python",
   "name": "python3"
  },
  "language_info": {
   "codemirror_mode": {
    "name": "ipython",
    "version": 3
   },
   "file_extension": ".py",
   "mimetype": "text/x-python",
   "name": "python",
   "nbconvert_exporter": "python",
   "pygments_lexer": "ipython3",
   "version": "3.8.8"
  }
 },
 "nbformat": 4,
 "nbformat_minor": 5
}
