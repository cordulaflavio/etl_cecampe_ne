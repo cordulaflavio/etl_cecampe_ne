{
 "cells": [
  {
   "cell_type": "code",
   "execution_count": 1,
   "id": "40cd2b49",
   "metadata": {},
   "outputs": [],
   "source": [
    "#Importando Pandas e Numpy\n",
    "import pandas as pd\n",
    "import numpy as np"
   ]
  },
  {
   "cell_type": "code",
   "execution_count": 2,
   "id": "aaf1c026",
   "metadata": {},
   "outputs": [
    {
     "name": "stdout",
     "output_type": "stream",
     "text": [
      "    co_entidade nu_cgc_entidade nu_cgc_entidade_proponente  co_escola  \\\n",
      "0  000000208910  45283009000195             45283009000195   35145543   \n",
      "1  000000208910  45283009000195             45283009000195   35145543   \n",
      "2  000000208910  45283009000195             45283009000195   35145543   \n",
      "3  000000208910  45283009000195             45283009000195   35145543   \n",
      "4  000000208910  45283009000195             45283009000195   35145543   \n",
      "\n",
      "          no_escola  nu_seq_escola  an_exercicio co_programa_fnde  \\\n",
      "0  APAE DE BARRETOS         208910          2008               02   \n",
      "1  APAE DE BARRETOS         208910          2008               A3   \n",
      "2  APAE DE BARRETOS         208910          2013               A3   \n",
      "3  APAE DE BARRETOS         208910          2014               A3   \n",
      "4  APAE DE BARRETOS         208910          2015               A3   \n",
      "\n",
      "  co_destinacao co_municipio_fnde  ... sg_uf co_regiao co_esfera_adm  \\\n",
      "0            01            350550  ...    SP        SE             3   \n",
      "1            01            350550  ...    SP        SE             3   \n",
      "2            01            350550  ...    SP        SE             3   \n",
      "3            01            350550  ...    SP        SE             3   \n",
      "4            01            350550  ...    SP        SE             3   \n",
      "\n",
      "  tp_entidade tp_localizacao tp_escola qt_alunos  vl_custeio_recurso  \\\n",
      "0          EM           null       PUB       212                3649   \n",
      "1          EM           null      null       212                3649   \n",
      "2          EM              U      null       185                6050   \n",
      "3          EM              U       PRI       197                6410   \n",
      "4          EM              U       PRI       150                5000   \n",
      "\n",
      "  vl_capital_recurso vl_total_recurso  \n",
      "0               3649             7298  \n",
      "1               3649             7298  \n",
      "2               6050            12100  \n",
      "3               6410            12820  \n",
      "4               5000            10000  \n",
      "\n",
      "[5 rows x 21 columns]\n"
     ]
    }
   ],
   "source": [
    "#Carregar arquivo csv\n",
    "csv_file_path = 'D:\\OneDrive\\Python\\Olinda_Download_20Set21\\Atendimento_PDDE_PREVISTO.csv'\n",
    "\n",
    "#Ler arquivo csv com condições\n",
    "df = pd.read_csv(csv_file_path,\n",
    "                 converters={'co_entidade': lambda x: str(x),\n",
    "                             'nu_cgc_entidade': lambda x: str(x), \n",
    "                             'nu_cgc_entidade_proponente': lambda x: str(x),\n",
    "                             'co_programa_fnde': lambda x: str(x),\n",
    "                             'co_destinacao': lambda x: str(x),\n",
    "                             'co_municipio_fnde': lambda x: str(x),\n",
    "                             'co_mesoregiao': lambda x: str(x),\n",
    "                             'sg_uf': lambda x: str(x),\n",
    "                             'co_regiao': lambda x: str(x),\n",
    "                             'co_esfera_adm': lambda x: str(x),\n",
    "                             'tp_entidade': lambda x: str(x),\n",
    "                             'tp_localizacao': lambda x: str(x),\n",
    "                             'tp_escola': lambda x: str(x),\n",
    "                             'vl_custeio_recurso': lambda x: str(x),\n",
    "                             'vl_capital_recurso': lambda x: str(x),\n",
    "                             'vl_total_recurso': lambda x: str(x)})\n",
    "         \n",
    "#Verificar leitura de arquivo csv\n",
    "print(df.head(5))"
   ]
  },
  {
   "cell_type": "code",
   "execution_count": null,
   "id": "73373965",
   "metadata": {},
   "outputs": [],
   "source": [
    "df.dtypes"
   ]
  },
  {
   "cell_type": "code",
   "execution_count": 7,
   "id": "93709d30",
   "metadata": {},
   "outputs": [],
   "source": [
    "#Substituicoes\n",
    "\n",
    "#Replace \"null\" textuais por vazios\n",
    "for column in df.columns:\n",
    "    df[column] = df[column].replace(\"null\",\"\")\n",
    "\n",
    "#Replace ponto por vírgulas das colunas R$\n",
    "df[\"vl_custeio_recurso\"] = df[\"vl_custeio_recurso\"].str.replace(',','.')    \n",
    "df[\"vl_capital_recurso\"] = df[\"vl_capital_recurso\"].str.replace(',','.')\n",
    "df[\"vl_total_recurso\"] = df[\"vl_total_recurso\"].str.replace(',','.')\n",
    "\n",
    "#Replace vírgulas e aspas duplas nos nomes das escolas por vazios\n",
    "df[\"no_escola\"] = df[\"no_escola\"].str.replace(',','')\n",
    "df[\"no_escola\"] = df[\"no_escola\"].str.replace('\"','')"
   ]
  },
  {
   "cell_type": "code",
   "execution_count": 8,
   "id": "1bcd8616",
   "metadata": {},
   "outputs": [],
   "source": [
    "# Salva alterações em novo arquivo csv, utf-8 e sem index\n",
    "df.to_csv(\"Atendimento_PDDE_PREVISTO_Formatada.csv\", encoding='utf-8-sig', index=False)"
   ]
  }
 ],
 "metadata": {
  "kernelspec": {
   "display_name": "Python 3",
   "language": "python",
   "name": "python3"
  },
  "language_info": {
   "codemirror_mode": {
    "name": "ipython",
    "version": 3
   },
   "file_extension": ".py",
   "mimetype": "text/x-python",
   "name": "python",
   "nbconvert_exporter": "python",
   "pygments_lexer": "ipython3",
   "version": "3.8.8"
  }
 },
 "nbformat": 4,
 "nbformat_minor": 5
}
