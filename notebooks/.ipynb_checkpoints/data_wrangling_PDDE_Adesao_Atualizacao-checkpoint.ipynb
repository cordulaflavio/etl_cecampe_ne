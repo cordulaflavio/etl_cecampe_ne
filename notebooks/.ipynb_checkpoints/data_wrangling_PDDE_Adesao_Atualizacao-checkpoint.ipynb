{
 "cells": [
  {
   "cell_type": "code",
   "execution_count": 1,
   "id": "d8b19637",
   "metadata": {},
   "outputs": [],
   "source": [
    "#Importando Pandas e Numpy\n",
    "import pandas as pd\n",
    "import numpy as np"
   ]
  },
  {
   "cell_type": "code",
   "execution_count": 2,
   "id": "f8fbcb15",
   "metadata": {},
   "outputs": [
    {
     "name": "stdout",
     "output_type": "stream",
     "text": [
      "  Sg_uf No_municipio Co_municipio_ibge An_exercicio Co_escola  \\\n",
      "0    AC   ACRELANDIA           1200013         2017  12009229   \n",
      "1    AC   ACRELANDIA           1200013         2017  12048224   \n",
      "\n",
      "                           No_escola Tp_localizacao Qt_alunos St_alunado  \\\n",
      "0  ESC PROF PEDRO DE CASTRO MEIRELES              U       750        >50   \n",
      "1                   ESC RITA BOCALOM              U       497        >50   \n",
      "\n",
      "  Nu_cgc_entidade                                 No_razao_social  \\\n",
      "0  01197090000115  COMITE EXECUTIVO PROF PEDRO DE CASTRO MEIRELES   \n",
      "1  10276005000103     CONSELHO ESCOLAR SEBASTIAO RAMOS DA FONSECA   \n",
      "\n",
      "  Nu_ddd_entidade Nu_telefone     Esfera Dt_atualizacao Nu_uex St_atualizado  \n",
      "0              68    32351615   ESTADUAL     2017-03-28      1           SIM  \n",
      "1              68    81145844  MUNICIPAL     2017-03-28      1           SIM  \n"
     ]
    }
   ],
   "source": [
    "#Carregar arquivo csv\n",
    "csv_file_path = 'D:\\etl_cecampe_ne_arquivos\\Olinda_PDDE\\PDDE_Adesao_Atualizacao.csv'\n",
    "\n",
    "#Ler arquivo csv com condições\n",
    "df = pd.read_csv(csv_file_path,\n",
    "                 parse_dates=['Dt_atualizacao'],\n",
    "                 converters={'Sg_uf': lambda x: str(x),\n",
    "                             'No_municipio': lambda x: str(x), \n",
    "                             'Co_municipio_ibge': lambda x: str(x),\n",
    "                             'An_exercicio': lambda x: str(x),\n",
    "                             'Co_escola': lambda x: str(x),\n",
    "                             'No_escola': lambda x: str(x),\n",
    "                             'Tp_localizacao': lambda x: str(x),\n",
    "                             'Qt_alunos': lambda x: str(x),\n",
    "                             'St_alunado': lambda x: str(x),\n",
    "                             'Nu_cgc_entidade': lambda x: str(x),\n",
    "                             'No_razao_social': lambda x: str(x),\n",
    "                             'Nu_ddd_entidade': lambda x: str(x),\n",
    "                             'Nu_telefone': lambda x: str(x),\n",
    "                             'Esfera': lambda x: str(x),\n",
    "                             'Nu_uex': lambda x: str(x),\n",
    "                             'St_atualizado': lambda x: str(x)}\n",
    "                )\n",
    "\n",
    "#Verificar leitura de arquivo csv\n",
    "#print(df.head(2))"
   ]
  },
  {
   "cell_type": "code",
   "execution_count": 3,
   "id": "917d5e5c",
   "metadata": {},
   "outputs": [],
   "source": [
    "#lower case dos headers\n",
    "df.columns = df.columns.astype(str).str.lower()\n",
    "\n",
    "#print(df)"
   ]
  },
  {
   "cell_type": "code",
   "execution_count": 4,
   "id": "a2da4871",
   "metadata": {},
   "outputs": [],
   "source": [
    "# Atualiza o formato da coluna dt_atualizacao para DD/MM/AAAA \n",
    "df[\"dt_atualizacao\"] = df[\"dt_atualizacao\"].dt.strftime(\"%d/%m/%y\")\n",
    "#print(df)"
   ]
  },
  {
   "cell_type": "code",
   "execution_count": 5,
   "id": "6c5b27a3",
   "metadata": {},
   "outputs": [],
   "source": [
    "#Substituicoes\n",
    "\n",
    "#Replace \"null\" textuais por vazios\n",
    "for column in df.columns:\n",
    "    df[column] = df[column].replace(\"null\",\"\")\n",
    "\n",
    "#Replace vírgulas da coluna no_razao_social pois isso cria aspas no string \n",
    "#e na importação dos dados para o postgres gera um erro\n",
    "# ERROR: unterminated CSV quoted field CONTEXT:\n",
    "df[\"no_razao_social\"] = df[\"no_razao_social\"].str.replace(',','')    \n",
    "\n",
    "#Replace aspas duplas por vazios\n",
    "df[\"no_razao_social\"] = df[\"no_razao_social\"].str.replace('\"','')"
   ]
  },
  {
   "cell_type": "code",
   "execution_count": 6,
   "id": "99dfe033",
   "metadata": {},
   "outputs": [],
   "source": [
    "#Salva alterações em novo arquivo csv, utf-8 e sem index\n",
    "df.to_csv(\"PDDE_Adesao_Atualizacao_Formatada.csv\", encoding='utf-8-sig', index=False)"
   ]
  },
  {
   "cell_type": "code",
   "execution_count": null,
   "id": "fb3979ca",
   "metadata": {},
   "outputs": [],
   "source": []
  }
 ],
 "metadata": {
  "kernelspec": {
   "display_name": "Python 3",
   "language": "python",
   "name": "python3"
  },
  "language_info": {
   "codemirror_mode": {
    "name": "ipython",
    "version": 3
   },
   "file_extension": ".py",
   "mimetype": "text/x-python",
   "name": "python",
   "nbconvert_exporter": "python",
   "pygments_lexer": "ipython3",
   "version": "3.8.8"
  }
 },
 "nbformat": 4,
 "nbformat_minor": 5
}
