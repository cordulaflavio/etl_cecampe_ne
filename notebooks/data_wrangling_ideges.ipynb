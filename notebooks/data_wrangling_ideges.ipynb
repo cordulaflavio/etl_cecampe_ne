{
 "cells": [
  {
   "cell_type": "code",
   "execution_count": 1,
   "id": "db0c1191",
   "metadata": {},
   "outputs": [],
   "source": [
    "#Importando Pandas e Numpy\n",
    "import pandas as pd\n",
    "import numpy as np"
   ]
  },
  {
   "cell_type": "code",
   "execution_count": 2,
   "id": "4686cb9b",
   "metadata": {},
   "outputs": [
    {
     "name": "stdout",
     "output_type": "stream",
     "text": [
      "  St_atualizado         NU_CNPJ NEP NEA indice_adesao CO_MUNICIPIO_IBGE SG_UF  \\\n",
      "0           NÃO  00005306000130   1   0             0           5218003    GO   \n",
      "1           NÃO  00006775000174   1   0             0           5218508    GO   \n",
      "2           NÃO  00056991000124   1   0             0                           \n",
      "3           NÃO  00062712000135   1   0             0           5102678    MT   \n",
      "4           NÃO  00063695000150   1   0             0                           \n",
      "\n",
      "   NO_MUNICIPIO  SALUM  SALAA VR Execução Razão Social UEx Situação OPC UEx  \\\n",
      "0     PORANGATU  29,32  29,22  0        0                                     \n",
      "1  QUIRINOPOLIS   0,24   0,24  0        0                                     \n",
      "2                                                                             \n",
      "3   CAMPO VERDE      0      0  0                                              \n",
      "4                                                                             \n",
      "\n",
      "  Data Envio da PC regularidade ideges  \n",
      "0              NaT            0      0  \n",
      "1              NaT            0      0  \n",
      "2              NaT            0      0  \n",
      "3              NaT            0      0  \n",
      "4              NaT            0      0  \n"
     ]
    }
   ],
   "source": [
    "#Carregar arquivo csv\n",
    "#csv_file_path = 'D:\\etl_cecampe_ne_arquivos\\Ideges\\ideges2018ref2017.csv'\n",
    "#csv_file_path = 'D:\\etl_cecampe_ne_arquivos\\Ideges\\ideges2019ref2018.csv'\n",
    "#csv_file_path = 'D:\\etl_cecampe_ne_arquivos\\Ideges\\ideges2020ref2019.csv'\n",
    "csv_file_path = 'D:\\etl_cecampe_ne_arquivos\\Ideges\\ideges2021ref2020.csv'\n",
    "\n",
    "#Ler arquivo csv com condições\n",
    "df = pd.read_csv(csv_file_path, sep = ';',\n",
    "                 parse_dates=['Data Envio da PC'],\n",
    "                 converters={'St_atualizado': lambda x: str(x),\n",
    "                             'NU_CNPJ': lambda x: str(x), \n",
    "                             'NEP': lambda x: str(x),\n",
    "                             'NEA': lambda x: str(x),\n",
    "                             'indice_adesao': lambda x: str(x),\n",
    "                             'CO_UF_IBGE': lambda x: str(x), \n",
    "                             'CO_MUNICIPIO_IBGE': lambda x: str(x),\n",
    "                             'SG_UF': lambda x: str(x),\n",
    "                             'NO_MUNICIPIO': lambda x: str(x),\n",
    "                             'SALUM': lambda x: str(x),\n",
    "                             'SALAA': lambda x: str(x),\n",
    "                             'VR': lambda x: str(x),\n",
    "                             'Execução': lambda x: str(x),\n",
    "                             'Razão Social UEx': lambda x: str(x),\n",
    "                             'Situação OPC UEx': lambda x: str(x),\n",
    "                             'regularidade': lambda x: str(x),\n",
    "                             'IdeGES': lambda x: str(x)})\n",
    "\n",
    "print(df.head(5))"
   ]
  },
  {
   "cell_type": "code",
   "execution_count": 3,
   "id": "3b27005a",
   "metadata": {},
   "outputs": [],
   "source": [
    "#Renomeando colunas e deixao tudo lower case \n",
    "df.rename(columns={'NU_CNPJ': 'cnpj', 'CO_MUNICIPIO_IBGE': 'cod_municipio', 'Execução': 'indice_execucao',\n",
    "                   'CO_UF_IBGE': 'cod_estado', 'Razão Social UEx': 'razao_social', 'Situação OPC UEx': 'situacao_opc',\n",
    "                   'regularidade': 'indice_regularidade', 'Data Envio da PC': 'Data_Envio_PC'}, inplace=True)\n",
    "\n",
    "df.columns = df.columns.astype(str).str.lower()\n",
    "          \n",
    "#print(df.head(5))        "
   ]
  },
  {
   "cell_type": "code",
   "execution_count": 4,
   "id": "0e5094a3",
   "metadata": {},
   "outputs": [],
   "source": [
    "#Substituicoes\n",
    "\n",
    "#Replace \"null\" textuais por vazios\n",
    "for column in df.columns:\n",
    "    df[column] = df[column].replace(\"null\",\"\")\n",
    "\n",
    "#Replace vírgulas da coluna razao_social pois isso cria aspas no string \n",
    "#e na importação dos dados para o postgres gera um erro\n",
    "# ERROR: unterminated CSV quoted field CONTEXT:\n",
    "df[\"razao_social\"] = df[\"razao_social\"].str.replace(';','')\n",
    "df[\"razao_social\"] = df[\"razao_social\"].str.replace('\"','')\n",
    "\n",
    "#trocando , por . nas casas decimais\n",
    "df[\"salum\"] = df[\"salum\"].str.replace(',','.')\n",
    "df[\"salaa\"] = df[\"salaa\"].str.replace(',','.')\n",
    "df[\"indice_execucao\"] = df[\"indice_execucao\"].str.replace(',','.')\n",
    "df[\"ideges\"] = df[\"ideges\"].str.replace(',','.')"
   ]
  },
  {
   "cell_type": "code",
   "execution_count": 5,
   "id": "fd652e18",
   "metadata": {},
   "outputs": [],
   "source": [
    "# Atualiza o formato da coluna dt_atualizacao para DD/MM/AAAA \n",
    "df[\"data_envio_pc\"] = df[\"data_envio_pc\"].dt.strftime(\"%d/%m/%y\")"
   ]
  },
  {
   "cell_type": "code",
   "execution_count": 6,
   "id": "21587e16",
   "metadata": {},
   "outputs": [],
   "source": [
    "#caso venha sem coluna de cod_estado\n",
    "df['cod_estado'] = ''\n",
    "\n",
    "df.loc[df.sg_uf == \"AC\", \"cod_estado\"] = \"12\"\n",
    "df.loc[df.sg_uf == \"AL\", \"cod_estado\"] = \"27\"\n",
    "df.loc[df.sg_uf == \"AM\", \"cod_estado\"] = \"13\"\n",
    "df.loc[df.sg_uf == \"AP\", \"cod_estado\"] = \"16\"\n",
    "df.loc[df.sg_uf == \"BA\", \"cod_estado\"] = \"29\"\n",
    "df.loc[df.sg_uf == \"CE\", \"cod_estado\"] = \"23\"\n",
    "df.loc[df.sg_uf == \"DF\", \"cod_estado\"] = \"53\"\n",
    "df.loc[df.sg_uf == \"ES\", \"cod_estado\"] = \"32\"\n",
    "df.loc[df.sg_uf == \"GO\", \"cod_estado\"] = \"52\"\n",
    "df.loc[df.sg_uf == \"MA\", \"cod_estado\"] = \"21\"\n",
    "df.loc[df.sg_uf == \"MG\", \"cod_estado\"] = \"31\"\n",
    "df.loc[df.sg_uf == \"MS\", \"cod_estado\"] = \"50\"\n",
    "df.loc[df.sg_uf == \"MT\", \"cod_estado\"] = \"51\"\n",
    "df.loc[df.sg_uf == \"PA\", \"cod_estado\"] = \"15\"\n",
    "df.loc[df.sg_uf == \"PB\", \"cod_estado\"] = \"25\"\n",
    "df.loc[df.sg_uf == \"PE\", \"cod_estado\"] = \"26\"\n",
    "df.loc[df.sg_uf == \"PI\", \"cod_estado\"] = \"22\"\n",
    "df.loc[df.sg_uf == \"PR\", \"cod_estado\"] = \"41\"\n",
    "df.loc[df.sg_uf == \"RJ\", \"cod_estado\"] = \"33\"\n",
    "df.loc[df.sg_uf == \"RN\", \"cod_estado\"] = \"24\"\n",
    "df.loc[df.sg_uf == \"RO\", \"cod_estado\"] = \"11\"\n",
    "df.loc[df.sg_uf == \"RR\", \"cod_estado\"] = \"14\"\n",
    "df.loc[df.sg_uf == \"RS\", \"cod_estado\"] = \"43\"\n",
    "df.loc[df.sg_uf == \"SC\", \"cod_estado\"] = \"42\"\n",
    "df.loc[df.sg_uf == \"SE\", \"cod_estado\"] = \"28\"\n",
    "df.loc[df.sg_uf == \"SP\", \"cod_estado\"] = \"35\"\n",
    "df.loc[df.sg_uf == \"TO\", \"cod_estado\"] = \"17\"\n",
    "\n",
    "\n"
   ]
  },
  {
   "cell_type": "code",
   "execution_count": 7,
   "id": "19fc0126",
   "metadata": {},
   "outputs": [],
   "source": [
    "#remover linhas que tenham cnpj vazios\n",
    "\n",
    "#transformar vazio em nan primeiro\n",
    "df['cnpj'].replace('', np.nan, inplace=True)\n",
    "\n",
    "#remover\n",
    "df.dropna(subset = [\"cnpj\"], inplace=True)"
   ]
  },
  {
   "cell_type": "code",
   "execution_count": 8,
   "id": "e7fa51b0",
   "metadata": {},
   "outputs": [],
   "source": [
    "#Deletando cnpj repetido. Dos repetidos, fica o cnpj com maior ideges\n",
    "df = df.sort_values(by='ideges', ascending=False)\n",
    "df = df.drop_duplicates(subset='cnpj', keep=\"first\")"
   ]
  },
  {
   "cell_type": "code",
   "execution_count": 9,
   "id": "51677ffa",
   "metadata": {},
   "outputs": [],
   "source": [
    "#Transformando ideges de string para float\n",
    "df['ideges'] = pd.to_numeric(df['ideges'])\n",
    "\n",
    "# Criar lista de condicoes\n",
    "condicoes = [\n",
    "    (df['ideges'] < 4),\n",
    "    (df['ideges'] >= 4) & (df['ideges'] < 6),\n",
    "    (df['ideges'] >= 6) & (df['ideges'] < 8),\n",
    "    (df['ideges'] >= 8) & (df['ideges'] < 9),\n",
    "    (df['ideges'] >= 9)\n",
    "    ]\n",
    "\n",
    "# Criar lista de valores para associar\n",
    "valores = ['Muito Baixo', 'Baixo', 'Médio', 'Alto', 'Muito Alto']\n",
    "\n",
    "# Criar nova coluna com os valores associados \n",
    "df['classificacao_ideges'] = np.select(condicoes, valores)\n",
    "\n",
    "#print(df)"
   ]
  },
  {
   "cell_type": "code",
   "execution_count": 10,
   "id": "d41c0e0e",
   "metadata": {},
   "outputs": [],
   "source": [
    "#Adicionar coluna ano_ideges e and_ref_ideges\n",
    "#Esse valor depende do csv que voce esta transformando\n",
    "#Exemplo: para o ideges2018ref2017.csv (ano_ideges = 2018 e and_ref_ideges = 2017)\n",
    "df['ano_ideges'] = '2021'\n",
    "df['ano_ref_ideges'] = '2020'\n",
    "\n",
    "#print(df)"
   ]
  },
  {
   "cell_type": "code",
   "execution_count": 11,
   "id": "1887aef6",
   "metadata": {},
   "outputs": [],
   "source": [
    "#Ordenar a ordem das colunas (se necessario)\n",
    "df = df[['st_atualizado','cnpj','nep','nea','indice_adesao','cod_estado','sg_uf',\n",
    "'cod_municipio','no_municipio','salum','salaa','vr','indice_execucao',\n",
    "'razao_social','situacao_opc','data_envio_pc','indice_regularidade',\n",
    "'ideges','classificacao_ideges','ano_ideges','ano_ref_ideges']]\n",
    "#df.head()"
   ]
  },
  {
   "cell_type": "code",
   "execution_count": 12,
   "id": "577ff27c",
   "metadata": {},
   "outputs": [],
   "source": [
    "#Salva alterações em novo arquivo csv, utf-8 e sem index\n",
    "#df.to_csv(\"ideges2018ref2017_formatado.csv\", encoding='utf-8-sig', index=False)\n",
    "#df.to_csv(\"ideges2019ref2018_formatado.csv\", encoding='utf-8-sig', index=False)\n",
    "#df.to_csv(\"ideges2020ref2019_formatado.csv\", encoding='utf-8-sig', index=False)\n",
    "df.to_csv(\"ideges2021ref2020_formatado.csv\", encoding='utf-8-sig', index=False)"
   ]
  },
  {
   "cell_type": "code",
   "execution_count": null,
   "id": "e9127b16",
   "metadata": {},
   "outputs": [],
   "source": []
  }
 ],
 "metadata": {
  "kernelspec": {
   "display_name": "Python 3",
   "language": "python",
   "name": "python3"
  },
  "language_info": {
   "codemirror_mode": {
    "name": "ipython",
    "version": 3
   },
   "file_extension": ".py",
   "mimetype": "text/x-python",
   "name": "python",
   "nbconvert_exporter": "python",
   "pygments_lexer": "ipython3",
   "version": "3.8.8"
  }
 },
 "nbformat": 4,
 "nbformat_minor": 5
}
